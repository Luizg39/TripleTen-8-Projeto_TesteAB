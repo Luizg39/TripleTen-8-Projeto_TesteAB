{
 "cells": [
  {
   "cell_type": "markdown",
   "metadata": {},
   "source": [
    "# Teste A/B\n",
    "Luiz Guilherme Graciano Ribeiro Pereira"
   ]
  },
  {
   "cell_type": "markdown",
   "metadata": {},
   "source": [
    "A atividade consiste em analisar dados de uma grande loja online. Junto com o departamento de marketing, foi compilado uma lista de hipóteses que podem ajudar a aumentar a receita.\n",
    "\n",
    "É necessário priorizar essas hipóteses, lançar um teste A/B e analisar os resultados."
   ]
  },
  {
   "cell_type": "markdown",
   "metadata": {},
   "source": [
    "### Descrição dos dados\n",
    "\n",
    "Dataframe contendo as hipóteses:\n",
    "\n",
    "    Hypotheses — breves descrições das hipóteses\n",
    "    Reach — alcance do usuário, em uma escala de um a dez\n",
    "    Impact — impacto nos usuários, em uma escala de um a dez\n",
    "    Confidence — confiança na hipótese, em uma escala de um a dez\n",
    "    Effort — os recursos necessários para testar uma hipótese, em uma escala de um a dez. Quanto maior o valor de Effort, mais recursos são necessários para o teste.\n",
    "\n",
    "\n",
    "Dataframe contendo as os pedidos dos usuários:\n",
    "\n",
    "    transactionId — identificador do pedido\n",
    "    visitorId — identificador do usuário que fez o pedido\n",
    "    date — do pedido\n",
    "    revenue — do pedido\n",
    "    group — o grupo de teste A/B ao qual o usuário pertence\n",
    "\n",
    "\n",
    "Dataframe contendo a quantidade de visitas por dia:\n",
    "\n",
    "    date — data\n",
    "    group — grupo de teste A/B\n",
    "    visits — o número de visitas na data especificada para o grupo de teste A/B especificado"
   ]
  },
  {
   "cell_type": "code",
   "execution_count": 1,
   "metadata": {},
   "outputs": [],
   "source": [
    "import pandas as pd\n",
    "import matplotlib as plot\n",
    "import datetime as dt\n",
    "import matplotlib.pyplot as plt\n",
    "import seaborn as sns\n",
    "import numpy as np\n",
    "from scipy import stats as st\n",
    "pd.options.display.float_format = '{:.2f}'.format"
   ]
  },
  {
   "cell_type": "markdown",
   "metadata": {},
   "source": [
    "## Pre-Processamento"
   ]
  },
  {
   "cell_type": "markdown",
   "metadata": {},
   "source": [
    "### Importação do dataframe `hypotheses`:"
   ]
  },
  {
   "cell_type": "code",
   "execution_count": 2,
   "metadata": {},
   "outputs": [],
   "source": [
    "try:\n",
    "    hypotheses = pd.read_csv('hypotheses_us.csv', delimiter=';')\n",
    "except:\n",
    "    hypotheses = pd.read_csv('/datasets/hypotheses_us.csv', delimiter=';')"
   ]
  },
  {
   "cell_type": "code",
   "execution_count": 3,
   "metadata": {},
   "outputs": [
    {
     "name": "stdout",
     "output_type": "stream",
     "text": [
      "<class 'pandas.core.frame.DataFrame'>\n",
      "RangeIndex: 9 entries, 0 to 8\n",
      "Data columns (total 5 columns):\n",
      " #   Column      Non-Null Count  Dtype \n",
      "---  ------      --------------  ----- \n",
      " 0   Hypothesis  9 non-null      object\n",
      " 1   Reach       9 non-null      int64 \n",
      " 2   Impact      9 non-null      int64 \n",
      " 3   Confidence  9 non-null      int64 \n",
      " 4   Effort      9 non-null      int64 \n",
      "dtypes: int64(4), object(1)\n",
      "memory usage: 488.0+ bytes\n"
     ]
    },
    {
     "data": {
      "text/html": [
       "<div>\n",
       "<style scoped>\n",
       "    .dataframe tbody tr th:only-of-type {\n",
       "        vertical-align: middle;\n",
       "    }\n",
       "\n",
       "    .dataframe tbody tr th {\n",
       "        vertical-align: top;\n",
       "    }\n",
       "\n",
       "    .dataframe thead th {\n",
       "        text-align: right;\n",
       "    }\n",
       "</style>\n",
       "<table border=\"1\" class=\"dataframe\">\n",
       "  <thead>\n",
       "    <tr style=\"text-align: right;\">\n",
       "      <th></th>\n",
       "      <th>Hypothesis</th>\n",
       "      <th>Reach</th>\n",
       "      <th>Impact</th>\n",
       "      <th>Confidence</th>\n",
       "      <th>Effort</th>\n",
       "    </tr>\n",
       "  </thead>\n",
       "  <tbody>\n",
       "    <tr>\n",
       "      <th>0</th>\n",
       "      <td>Add two new channels for attracting traffic. T...</td>\n",
       "      <td>3</td>\n",
       "      <td>10</td>\n",
       "      <td>8</td>\n",
       "      <td>6</td>\n",
       "    </tr>\n",
       "    <tr>\n",
       "      <th>1</th>\n",
       "      <td>Launch your own delivery service. This will sh...</td>\n",
       "      <td>2</td>\n",
       "      <td>5</td>\n",
       "      <td>4</td>\n",
       "      <td>10</td>\n",
       "    </tr>\n",
       "    <tr>\n",
       "      <th>2</th>\n",
       "      <td>Add product recommendation blocks to the store...</td>\n",
       "      <td>8</td>\n",
       "      <td>3</td>\n",
       "      <td>7</td>\n",
       "      <td>3</td>\n",
       "    </tr>\n",
       "    <tr>\n",
       "      <th>3</th>\n",
       "      <td>Change the category structure. This will incre...</td>\n",
       "      <td>8</td>\n",
       "      <td>3</td>\n",
       "      <td>3</td>\n",
       "      <td>8</td>\n",
       "    </tr>\n",
       "    <tr>\n",
       "      <th>4</th>\n",
       "      <td>Change the background color on the main page. ...</td>\n",
       "      <td>3</td>\n",
       "      <td>1</td>\n",
       "      <td>1</td>\n",
       "      <td>1</td>\n",
       "    </tr>\n",
       "    <tr>\n",
       "      <th>5</th>\n",
       "      <td>Add a customer review page. This will increase...</td>\n",
       "      <td>3</td>\n",
       "      <td>2</td>\n",
       "      <td>2</td>\n",
       "      <td>3</td>\n",
       "    </tr>\n",
       "    <tr>\n",
       "      <th>6</th>\n",
       "      <td>Show banners with current offers and sales on ...</td>\n",
       "      <td>5</td>\n",
       "      <td>3</td>\n",
       "      <td>8</td>\n",
       "      <td>3</td>\n",
       "    </tr>\n",
       "    <tr>\n",
       "      <th>7</th>\n",
       "      <td>Add a subscription form to all the main pages....</td>\n",
       "      <td>10</td>\n",
       "      <td>7</td>\n",
       "      <td>8</td>\n",
       "      <td>5</td>\n",
       "    </tr>\n",
       "    <tr>\n",
       "      <th>8</th>\n",
       "      <td>Launch a promotion that gives users discounts ...</td>\n",
       "      <td>1</td>\n",
       "      <td>9</td>\n",
       "      <td>9</td>\n",
       "      <td>5</td>\n",
       "    </tr>\n",
       "  </tbody>\n",
       "</table>\n",
       "</div>"
      ],
      "text/plain": [
       "                                          Hypothesis  Reach  Impact  \\\n",
       "0  Add two new channels for attracting traffic. T...      3      10   \n",
       "1  Launch your own delivery service. This will sh...      2       5   \n",
       "2  Add product recommendation blocks to the store...      8       3   \n",
       "3  Change the category structure. This will incre...      8       3   \n",
       "4  Change the background color on the main page. ...      3       1   \n",
       "5  Add a customer review page. This will increase...      3       2   \n",
       "6  Show banners with current offers and sales on ...      5       3   \n",
       "7  Add a subscription form to all the main pages....     10       7   \n",
       "8  Launch a promotion that gives users discounts ...      1       9   \n",
       "\n",
       "   Confidence  Effort  \n",
       "0           8       6  \n",
       "1           4      10  \n",
       "2           7       3  \n",
       "3           3       8  \n",
       "4           1       1  \n",
       "5           2       3  \n",
       "6           8       3  \n",
       "7           8       5  \n",
       "8           9       5  "
      ]
     },
     "execution_count": 3,
     "metadata": {},
     "output_type": "execute_result"
    }
   ],
   "source": [
    "hypotheses.info()\n",
    "\n",
    "hypotheses"
   ]
  },
  {
   "cell_type": "markdown",
   "metadata": {},
   "source": [
    "O nome das colunas ficará em letra minúscula."
   ]
  },
  {
   "cell_type": "code",
   "execution_count": 4,
   "metadata": {},
   "outputs": [
    {
     "data": {
      "text/plain": [
       "Index(['hypothesis', 'reach', 'impact', 'confidence', 'effort'], dtype='object')"
      ]
     },
     "execution_count": 4,
     "metadata": {},
     "output_type": "execute_result"
    }
   ],
   "source": [
    "hypotheses.columns = hypotheses.columns.str.lower()\n",
    "\n",
    "hypotheses.columns"
   ]
  },
  {
   "cell_type": "markdown",
   "metadata": {},
   "source": [
    "Não foram encontrados problemas no dataframe."
   ]
  },
  {
   "cell_type": "markdown",
   "metadata": {},
   "source": [
    "### Importação do dataframe `orders`:"
   ]
  },
  {
   "cell_type": "code",
   "execution_count": 5,
   "metadata": {},
   "outputs": [],
   "source": [
    "try:\n",
    "    orders = pd.read_csv('orders_us.csv', parse_dates=['date'])\n",
    "except:\n",
    "    orders = pd.read_csv('/datasets/orders_us.csv', parse_dates=['date'])"
   ]
  },
  {
   "cell_type": "code",
   "execution_count": 6,
   "metadata": {},
   "outputs": [
    {
     "name": "stdout",
     "output_type": "stream",
     "text": [
      "<class 'pandas.core.frame.DataFrame'>\n",
      "RangeIndex: 1197 entries, 0 to 1196\n",
      "Data columns (total 5 columns):\n",
      " #   Column         Non-Null Count  Dtype         \n",
      "---  ------         --------------  -----         \n",
      " 0   transactionId  1197 non-null   int64         \n",
      " 1   visitorId      1197 non-null   int64         \n",
      " 2   date           1197 non-null   datetime64[ns]\n",
      " 3   revenue        1197 non-null   float64       \n",
      " 4   group          1197 non-null   object        \n",
      "dtypes: datetime64[ns](1), float64(1), int64(2), object(1)\n",
      "memory usage: 105.3 KB\n"
     ]
    },
    {
     "data": {
      "text/html": [
       "<div>\n",
       "<style scoped>\n",
       "    .dataframe tbody tr th:only-of-type {\n",
       "        vertical-align: middle;\n",
       "    }\n",
       "\n",
       "    .dataframe tbody tr th {\n",
       "        vertical-align: top;\n",
       "    }\n",
       "\n",
       "    .dataframe thead th {\n",
       "        text-align: right;\n",
       "    }\n",
       "</style>\n",
       "<table border=\"1\" class=\"dataframe\">\n",
       "  <thead>\n",
       "    <tr style=\"text-align: right;\">\n",
       "      <th></th>\n",
       "      <th>transactionId</th>\n",
       "      <th>visitorId</th>\n",
       "      <th>date</th>\n",
       "      <th>revenue</th>\n",
       "      <th>group</th>\n",
       "    </tr>\n",
       "  </thead>\n",
       "  <tbody>\n",
       "    <tr>\n",
       "      <th>0</th>\n",
       "      <td>3667963787</td>\n",
       "      <td>3312258926</td>\n",
       "      <td>2019-08-15</td>\n",
       "      <td>30.40</td>\n",
       "      <td>B</td>\n",
       "    </tr>\n",
       "    <tr>\n",
       "      <th>1</th>\n",
       "      <td>2804400009</td>\n",
       "      <td>3642806036</td>\n",
       "      <td>2019-08-15</td>\n",
       "      <td>15.20</td>\n",
       "      <td>B</td>\n",
       "    </tr>\n",
       "    <tr>\n",
       "      <th>2</th>\n",
       "      <td>2961555356</td>\n",
       "      <td>4069496402</td>\n",
       "      <td>2019-08-15</td>\n",
       "      <td>10.20</td>\n",
       "      <td>A</td>\n",
       "    </tr>\n",
       "    <tr>\n",
       "      <th>3</th>\n",
       "      <td>3797467345</td>\n",
       "      <td>1196621759</td>\n",
       "      <td>2019-08-15</td>\n",
       "      <td>155.10</td>\n",
       "      <td>B</td>\n",
       "    </tr>\n",
       "    <tr>\n",
       "      <th>4</th>\n",
       "      <td>2282983706</td>\n",
       "      <td>2322279887</td>\n",
       "      <td>2019-08-15</td>\n",
       "      <td>40.50</td>\n",
       "      <td>B</td>\n",
       "    </tr>\n",
       "  </tbody>\n",
       "</table>\n",
       "</div>"
      ],
      "text/plain": [
       "   transactionId   visitorId       date  revenue group\n",
       "0     3667963787  3312258926 2019-08-15    30.40     B\n",
       "1     2804400009  3642806036 2019-08-15    15.20     B\n",
       "2     2961555356  4069496402 2019-08-15    10.20     A\n",
       "3     3797467345  1196621759 2019-08-15   155.10     B\n",
       "4     2282983706  2322279887 2019-08-15    40.50     B"
      ]
     },
     "execution_count": 6,
     "metadata": {},
     "output_type": "execute_result"
    }
   ],
   "source": [
    "orders.info(memory_usage='deep')\n",
    "\n",
    "orders.head()"
   ]
  },
  {
   "cell_type": "code",
   "execution_count": 7,
   "metadata": {},
   "outputs": [
    {
     "data": {
      "text/plain": [
       "False    1197\n",
       "dtype: int64"
      ]
     },
     "execution_count": 7,
     "metadata": {},
     "output_type": "execute_result"
    }
   ],
   "source": [
    "orders.duplicated().value_counts()"
   ]
  },
  {
   "cell_type": "markdown",
   "metadata": {},
   "source": [
    "Não foram encontrados linhas duplicadas."
   ]
  },
  {
   "cell_type": "code",
   "execution_count": 8,
   "metadata": {},
   "outputs": [
    {
     "data": {
      "text/plain": [
       "count    1197.00\n",
       "mean      131.49\n",
       "std       603.00\n",
       "min         5.00\n",
       "25%        20.80\n",
       "50%        50.20\n",
       "75%       130.40\n",
       "max     19920.40\n",
       "Name: revenue, dtype: float64"
      ]
     },
     "execution_count": 8,
     "metadata": {},
     "output_type": "execute_result"
    }
   ],
   "source": [
    "orders['revenue'].describe()"
   ]
  },
  {
   "cell_type": "markdown",
   "metadata": {},
   "source": [
    "Na coluna `revenue` parece haver valores extremos, eles serão investigados depois."
   ]
  },
  {
   "cell_type": "markdown",
   "metadata": {},
   "source": [
    "<div class=\"alert alert-success\">\n",
    "<strong>Comentário do revisor v1</strong>\n",
    "\n",
    "Excelente trabalho checando a consistência dos dados.\n",
    "\n",
    "Sempre importante para garantir uma análise robusta!\n",
    "</div>\n"
   ]
  },
  {
   "cell_type": "markdown",
   "metadata": {},
   "source": [
    "#### Indentificação de usuários que tenham entrado em ambos os grupos de teste:"
   ]
  },
  {
   "cell_type": "code",
   "execution_count": 9,
   "metadata": {},
   "outputs": [],
   "source": [
    "ordersA = orders.query('group == \"A\"')\n",
    "ordersB = orders.query('group == \"B\"')\n",
    "\n",
    "ordersAB = orders.\\\n",
    "    query('visitorId in @ordersB[\"visitorId\"] and visitorId in @ordersA[\"visitorId\"]')\\\n",
    "    .sort_values(by=['visitorId','date'])"
   ]
  },
  {
   "cell_type": "code",
   "execution_count": 10,
   "metadata": {},
   "outputs": [
    {
     "data": {
      "text/html": [
       "<div>\n",
       "<style scoped>\n",
       "    .dataframe tbody tr th:only-of-type {\n",
       "        vertical-align: middle;\n",
       "    }\n",
       "\n",
       "    .dataframe tbody tr th {\n",
       "        vertical-align: top;\n",
       "    }\n",
       "\n",
       "    .dataframe thead th {\n",
       "        text-align: right;\n",
       "    }\n",
       "</style>\n",
       "<table border=\"1\" class=\"dataframe\">\n",
       "  <thead>\n",
       "    <tr style=\"text-align: right;\">\n",
       "      <th></th>\n",
       "      <th>transactionId</th>\n",
       "      <th>visitorId</th>\n",
       "      <th>date</th>\n",
       "      <th>revenue</th>\n",
       "      <th>group</th>\n",
       "    </tr>\n",
       "  </thead>\n",
       "  <tbody>\n",
       "    <tr>\n",
       "      <th>71</th>\n",
       "      <td>3679129301</td>\n",
       "      <td>8300375</td>\n",
       "      <td>2019-08-01</td>\n",
       "      <td>165.70</td>\n",
       "      <td>B</td>\n",
       "    </tr>\n",
       "    <tr>\n",
       "      <th>703</th>\n",
       "      <td>4293855558</td>\n",
       "      <td>8300375</td>\n",
       "      <td>2019-08-07</td>\n",
       "      <td>30.50</td>\n",
       "      <td>A</td>\n",
       "    </tr>\n",
       "    <tr>\n",
       "      <th>246</th>\n",
       "      <td>437656952</td>\n",
       "      <td>199603092</td>\n",
       "      <td>2019-08-02</td>\n",
       "      <td>55.70</td>\n",
       "      <td>B</td>\n",
       "    </tr>\n",
       "    <tr>\n",
       "      <th>1102</th>\n",
       "      <td>1941707234</td>\n",
       "      <td>199603092</td>\n",
       "      <td>2019-08-12</td>\n",
       "      <td>100.00</td>\n",
       "      <td>A</td>\n",
       "    </tr>\n",
       "    <tr>\n",
       "      <th>26</th>\n",
       "      <td>2223239646</td>\n",
       "      <td>199603092</td>\n",
       "      <td>2019-08-15</td>\n",
       "      <td>55.70</td>\n",
       "      <td>A</td>\n",
       "    </tr>\n",
       "  </tbody>\n",
       "</table>\n",
       "</div>"
      ],
      "text/plain": [
       "      transactionId  visitorId       date  revenue group\n",
       "71       3679129301    8300375 2019-08-01   165.70     B\n",
       "703      4293855558    8300375 2019-08-07    30.50     A\n",
       "246       437656952  199603092 2019-08-02    55.70     B\n",
       "1102     1941707234  199603092 2019-08-12   100.00     A\n",
       "26       2223239646  199603092 2019-08-15    55.70     A"
      ]
     },
     "metadata": {},
     "output_type": "display_data"
    },
    {
     "data": {
      "text/html": [
       "<div>\n",
       "<style scoped>\n",
       "    .dataframe tbody tr th:only-of-type {\n",
       "        vertical-align: middle;\n",
       "    }\n",
       "\n",
       "    .dataframe tbody tr th {\n",
       "        vertical-align: top;\n",
       "    }\n",
       "\n",
       "    .dataframe thead th {\n",
       "        text-align: right;\n",
       "    }\n",
       "</style>\n",
       "<table border=\"1\" class=\"dataframe\">\n",
       "  <thead>\n",
       "    <tr style=\"text-align: right;\">\n",
       "      <th></th>\n",
       "      <th>transactionId</th>\n",
       "      <th>visitorId</th>\n",
       "      <th>revenue</th>\n",
       "    </tr>\n",
       "  </thead>\n",
       "  <tbody>\n",
       "    <tr>\n",
       "      <th>count</th>\n",
       "      <td>181.00</td>\n",
       "      <td>181.00</td>\n",
       "      <td>181.00</td>\n",
       "    </tr>\n",
       "    <tr>\n",
       "      <th>mean</th>\n",
       "      <td>2158634383.61</td>\n",
       "      <td>2375242709.06</td>\n",
       "      <td>135.54</td>\n",
       "    </tr>\n",
       "    <tr>\n",
       "      <th>std</th>\n",
       "      <td>1202326358.54</td>\n",
       "      <td>1297837082.59</td>\n",
       "      <td>218.23</td>\n",
       "    </tr>\n",
       "    <tr>\n",
       "      <th>min</th>\n",
       "      <td>62794304.00</td>\n",
       "      <td>8300375.00</td>\n",
       "      <td>5.20</td>\n",
       "    </tr>\n",
       "    <tr>\n",
       "      <th>25%</th>\n",
       "      <td>1215730747.00</td>\n",
       "      <td>1404934699.00</td>\n",
       "      <td>25.50</td>\n",
       "    </tr>\n",
       "    <tr>\n",
       "      <th>50%</th>\n",
       "      <td>2213813903.00</td>\n",
       "      <td>2458001652.00</td>\n",
       "      <td>55.20</td>\n",
       "    </tr>\n",
       "    <tr>\n",
       "      <th>75%</th>\n",
       "      <td>3061324106.00</td>\n",
       "      <td>3717692402.00</td>\n",
       "      <td>130.80</td>\n",
       "    </tr>\n",
       "    <tr>\n",
       "      <th>max</th>\n",
       "      <td>4293855558.00</td>\n",
       "      <td>4266935830.00</td>\n",
       "      <td>1450.20</td>\n",
       "    </tr>\n",
       "  </tbody>\n",
       "</table>\n",
       "</div>"
      ],
      "text/plain": [
       "       transactionId     visitorId  revenue\n",
       "count         181.00        181.00   181.00\n",
       "mean   2158634383.61 2375242709.06   135.54\n",
       "std    1202326358.54 1297837082.59   218.23\n",
       "min      62794304.00    8300375.00     5.20\n",
       "25%    1215730747.00 1404934699.00    25.50\n",
       "50%    2213813903.00 2458001652.00    55.20\n",
       "75%    3061324106.00 3717692402.00   130.80\n",
       "max    4293855558.00 4266935830.00  1450.20"
      ]
     },
     "execution_count": 10,
     "metadata": {},
     "output_type": "execute_result"
    }
   ],
   "source": [
    "display(ordersAB.head())\n",
    "ordersAB.describe()\n"
   ]
  },
  {
   "cell_type": "code",
   "execution_count": 11,
   "metadata": {},
   "outputs": [
    {
     "name": "stdout",
     "output_type": "stream",
     "text": [
      "\n",
      "Porcentagem de linhas incorretas em relação ao total:\n",
      "0.15121136173767752\n",
      "\n",
      "Porcentagem de usuários únicos incorretos em relação ao total:\n",
      "0.05625606207565471\n",
      "\n",
      "Quantidade de usuários:\n",
      "58\n"
     ]
    }
   ],
   "source": [
    "print('')\n",
    "print('Porcentagem de linhas incorretas em relação ao total:')\n",
    "print(len(ordersAB) / len(orders))\n",
    "\n",
    "print('')\n",
    "print('Porcentagem de usuários únicos incorretos em relação ao total:')\n",
    "print(len(ordersAB['visitorId'].unique()) / len(orders['visitorId'].unique()))\n",
    "\n",
    "print('')\n",
    "print('Quantidade de usuários:')\n",
    "print(len(ordersAB['visitorId'].unique()))"
   ]
  },
  {
   "cell_type": "markdown",
   "metadata": {},
   "source": [
    "58 usuários entraram em ambos os grupos, eles fizeram compras em diferentes dias e entraram incorretamente em grupos diferentes, representam 5% dos usários. O número de compras de grupos errados foi de 181, representa 15% do dataframe total. Sendo assim, foi decidido pelo tratamento desses usuários."
   ]
  },
  {
   "cell_type": "markdown",
   "metadata": {},
   "source": [
    "#### Correção do usuários que tenhsm entrado em ambos os grupos de teste:"
   ]
  },
  {
   "cell_type": "markdown",
   "metadata": {},
   "source": [
    "Para tratar esses dados, o primeiro grupo que o usuário entrou será aquele que ele ficará. Será identificado o grupo na primeira compra e as outras linhas serão modificadas para esse grupo."
   ]
  },
  {
   "cell_type": "code",
   "execution_count": 12,
   "metadata": {},
   "outputs": [
    {
     "data": {
      "text/html": [
       "<div>\n",
       "<style scoped>\n",
       "    .dataframe tbody tr th:only-of-type {\n",
       "        vertical-align: middle;\n",
       "    }\n",
       "\n",
       "    .dataframe tbody tr th {\n",
       "        vertical-align: top;\n",
       "    }\n",
       "\n",
       "    .dataframe thead th {\n",
       "        text-align: right;\n",
       "    }\n",
       "</style>\n",
       "<table border=\"1\" class=\"dataframe\">\n",
       "  <thead>\n",
       "    <tr style=\"text-align: right;\">\n",
       "      <th></th>\n",
       "      <th>transactionId</th>\n",
       "      <th>visitorId</th>\n",
       "      <th>date</th>\n",
       "      <th>revenue</th>\n",
       "      <th>group</th>\n",
       "    </tr>\n",
       "  </thead>\n",
       "  <tbody>\n",
       "  </tbody>\n",
       "</table>\n",
       "</div>"
      ],
      "text/plain": [
       "Empty DataFrame\n",
       "Columns: [transactionId, visitorId, date, revenue, group]\n",
       "Index: []"
      ]
     },
     "execution_count": 12,
     "metadata": {},
     "output_type": "execute_result"
    }
   ],
   "source": [
    "ordersAB_min = ordersAB.groupby('visitorId').agg({'date':'min','group':'first'}).reset_index()\n",
    "\n",
    "orders_clean = orders.copy()\n",
    "\n",
    "grupo_map = dict(zip( ordersAB_min['visitorId'] , ordersAB_min['group']))\n",
    "\n",
    "orders_clean['group']  = orders_clean['visitorId'].map(grupo_map)\n",
    "\n",
    "orders_clean['group'] = orders_clean['group'].fillna(orders['group'])\n",
    "\n",
    "orders_cleanA = orders_clean.query('group == \"A\"')\n",
    "orders_cleanB = orders_clean.query('group == \"B\"')\n",
    "\n",
    "orders_cleanAB = orders_clean.\\\n",
    "    query('visitorId in @orders_cleanB[\"visitorId\"] and visitorId in @orders_cleanA[\"visitorId\"]')\\\n",
    "    .sort_values(by=['visitorId','date'])\n",
    "\n",
    "orders_cleanAB"
   ]
  },
  {
   "cell_type": "markdown",
   "metadata": {},
   "source": [
    "Não existem mais usuários em ambos os grupos."
   ]
  },
  {
   "cell_type": "markdown",
   "metadata": {},
   "source": [
    "### Importação do dataframe `visits`:"
   ]
  },
  {
   "cell_type": "code",
   "execution_count": 13,
   "metadata": {},
   "outputs": [],
   "source": [
    "try:\n",
    "    visits = pd.read_csv('visits_us.csv', parse_dates=['date'])\n",
    "except:\n",
    "    visits = pd.read_csv('/datasets/visits_us.csv', parse_dates=['date'])"
   ]
  },
  {
   "cell_type": "code",
   "execution_count": 14,
   "metadata": {},
   "outputs": [
    {
     "name": "stdout",
     "output_type": "stream",
     "text": [
      "<class 'pandas.core.frame.DataFrame'>\n",
      "RangeIndex: 62 entries, 0 to 61\n",
      "Data columns (total 3 columns):\n",
      " #   Column  Non-Null Count  Dtype         \n",
      "---  ------  --------------  -----         \n",
      " 0   date    62 non-null     datetime64[ns]\n",
      " 1   group   62 non-null     object        \n",
      " 2   visits  62 non-null     int64         \n",
      "dtypes: datetime64[ns](1), int64(1), object(1)\n",
      "memory usage: 4.6 KB\n"
     ]
    },
    {
     "data": {
      "text/html": [
       "<div>\n",
       "<style scoped>\n",
       "    .dataframe tbody tr th:only-of-type {\n",
       "        vertical-align: middle;\n",
       "    }\n",
       "\n",
       "    .dataframe tbody tr th {\n",
       "        vertical-align: top;\n",
       "    }\n",
       "\n",
       "    .dataframe thead th {\n",
       "        text-align: right;\n",
       "    }\n",
       "</style>\n",
       "<table border=\"1\" class=\"dataframe\">\n",
       "  <thead>\n",
       "    <tr style=\"text-align: right;\">\n",
       "      <th></th>\n",
       "      <th>date</th>\n",
       "      <th>group</th>\n",
       "      <th>visits</th>\n",
       "    </tr>\n",
       "  </thead>\n",
       "  <tbody>\n",
       "    <tr>\n",
       "      <th>0</th>\n",
       "      <td>2019-08-01</td>\n",
       "      <td>A</td>\n",
       "      <td>719</td>\n",
       "    </tr>\n",
       "    <tr>\n",
       "      <th>1</th>\n",
       "      <td>2019-08-02</td>\n",
       "      <td>A</td>\n",
       "      <td>619</td>\n",
       "    </tr>\n",
       "    <tr>\n",
       "      <th>2</th>\n",
       "      <td>2019-08-03</td>\n",
       "      <td>A</td>\n",
       "      <td>507</td>\n",
       "    </tr>\n",
       "    <tr>\n",
       "      <th>3</th>\n",
       "      <td>2019-08-04</td>\n",
       "      <td>A</td>\n",
       "      <td>717</td>\n",
       "    </tr>\n",
       "    <tr>\n",
       "      <th>4</th>\n",
       "      <td>2019-08-05</td>\n",
       "      <td>A</td>\n",
       "      <td>756</td>\n",
       "    </tr>\n",
       "  </tbody>\n",
       "</table>\n",
       "</div>"
      ],
      "text/plain": [
       "        date group  visits\n",
       "0 2019-08-01     A     719\n",
       "1 2019-08-02     A     619\n",
       "2 2019-08-03     A     507\n",
       "3 2019-08-04     A     717\n",
       "4 2019-08-05     A     756"
      ]
     },
     "metadata": {},
     "output_type": "display_data"
    },
    {
     "data": {
      "text/html": [
       "<div>\n",
       "<style scoped>\n",
       "    .dataframe tbody tr th:only-of-type {\n",
       "        vertical-align: middle;\n",
       "    }\n",
       "\n",
       "    .dataframe tbody tr th {\n",
       "        vertical-align: top;\n",
       "    }\n",
       "\n",
       "    .dataframe thead th {\n",
       "        text-align: right;\n",
       "    }\n",
       "</style>\n",
       "<table border=\"1\" class=\"dataframe\">\n",
       "  <thead>\n",
       "    <tr style=\"text-align: right;\">\n",
       "      <th></th>\n",
       "      <th>date</th>\n",
       "      <th>group</th>\n",
       "      <th>visits</th>\n",
       "    </tr>\n",
       "  </thead>\n",
       "  <tbody>\n",
       "    <tr>\n",
       "      <th>57</th>\n",
       "      <td>2019-08-27</td>\n",
       "      <td>B</td>\n",
       "      <td>720</td>\n",
       "    </tr>\n",
       "    <tr>\n",
       "      <th>58</th>\n",
       "      <td>2019-08-28</td>\n",
       "      <td>B</td>\n",
       "      <td>654</td>\n",
       "    </tr>\n",
       "    <tr>\n",
       "      <th>59</th>\n",
       "      <td>2019-08-29</td>\n",
       "      <td>B</td>\n",
       "      <td>531</td>\n",
       "    </tr>\n",
       "    <tr>\n",
       "      <th>60</th>\n",
       "      <td>2019-08-30</td>\n",
       "      <td>B</td>\n",
       "      <td>490</td>\n",
       "    </tr>\n",
       "    <tr>\n",
       "      <th>61</th>\n",
       "      <td>2019-08-31</td>\n",
       "      <td>B</td>\n",
       "      <td>718</td>\n",
       "    </tr>\n",
       "  </tbody>\n",
       "</table>\n",
       "</div>"
      ],
      "text/plain": [
       "         date group  visits\n",
       "57 2019-08-27     B     720\n",
       "58 2019-08-28     B     654\n",
       "59 2019-08-29     B     531\n",
       "60 2019-08-30     B     490\n",
       "61 2019-08-31     B     718"
      ]
     },
     "execution_count": 14,
     "metadata": {},
     "output_type": "execute_result"
    }
   ],
   "source": [
    "visits.info(memory_usage='deep')\n",
    "\n",
    "display(visits.head().sort_values(by='date'))\n",
    "\n",
    "visits.tail()"
   ]
  },
  {
   "cell_type": "markdown",
   "metadata": {},
   "source": [
    "Não foram encontrados problemas no dataframe."
   ]
  },
  {
   "cell_type": "markdown",
   "metadata": {},
   "source": [
    "## Priorizando Hipóteses"
   ]
  },
  {
   "cell_type": "markdown",
   "metadata": {},
   "source": [
    "O dataframe `hypotheses` contém nove hipóteses para aumentar a receita de uma loja online com Reach, Impact, Confidence e Effort especificados para cada um. Será utilizado o framework ICE e RICE para priorizar hipóteses. "
   ]
  },
  {
   "cell_type": "code",
   "execution_count": 15,
   "metadata": {},
   "outputs": [
    {
     "data": {
      "text/html": [
       "<div>\n",
       "<style scoped>\n",
       "    .dataframe tbody tr th:only-of-type {\n",
       "        vertical-align: middle;\n",
       "    }\n",
       "\n",
       "    .dataframe tbody tr th {\n",
       "        vertical-align: top;\n",
       "    }\n",
       "\n",
       "    .dataframe thead th {\n",
       "        text-align: right;\n",
       "    }\n",
       "</style>\n",
       "<table border=\"1\" class=\"dataframe\">\n",
       "  <thead>\n",
       "    <tr style=\"text-align: right;\">\n",
       "      <th></th>\n",
       "      <th>hypothesis</th>\n",
       "      <th>reach</th>\n",
       "      <th>impact</th>\n",
       "      <th>confidence</th>\n",
       "      <th>effort</th>\n",
       "    </tr>\n",
       "  </thead>\n",
       "  <tbody>\n",
       "    <tr>\n",
       "      <th>0</th>\n",
       "      <td>Add two new channels for attracting traffic. T...</td>\n",
       "      <td>3</td>\n",
       "      <td>10</td>\n",
       "      <td>8</td>\n",
       "      <td>6</td>\n",
       "    </tr>\n",
       "    <tr>\n",
       "      <th>1</th>\n",
       "      <td>Launch your own delivery service. This will sh...</td>\n",
       "      <td>2</td>\n",
       "      <td>5</td>\n",
       "      <td>4</td>\n",
       "      <td>10</td>\n",
       "    </tr>\n",
       "    <tr>\n",
       "      <th>2</th>\n",
       "      <td>Add product recommendation blocks to the store...</td>\n",
       "      <td>8</td>\n",
       "      <td>3</td>\n",
       "      <td>7</td>\n",
       "      <td>3</td>\n",
       "    </tr>\n",
       "    <tr>\n",
       "      <th>3</th>\n",
       "      <td>Change the category structure. This will incre...</td>\n",
       "      <td>8</td>\n",
       "      <td>3</td>\n",
       "      <td>3</td>\n",
       "      <td>8</td>\n",
       "    </tr>\n",
       "    <tr>\n",
       "      <th>4</th>\n",
       "      <td>Change the background color on the main page. ...</td>\n",
       "      <td>3</td>\n",
       "      <td>1</td>\n",
       "      <td>1</td>\n",
       "      <td>1</td>\n",
       "    </tr>\n",
       "    <tr>\n",
       "      <th>5</th>\n",
       "      <td>Add a customer review page. This will increase...</td>\n",
       "      <td>3</td>\n",
       "      <td>2</td>\n",
       "      <td>2</td>\n",
       "      <td>3</td>\n",
       "    </tr>\n",
       "    <tr>\n",
       "      <th>6</th>\n",
       "      <td>Show banners with current offers and sales on ...</td>\n",
       "      <td>5</td>\n",
       "      <td>3</td>\n",
       "      <td>8</td>\n",
       "      <td>3</td>\n",
       "    </tr>\n",
       "    <tr>\n",
       "      <th>7</th>\n",
       "      <td>Add a subscription form to all the main pages....</td>\n",
       "      <td>10</td>\n",
       "      <td>7</td>\n",
       "      <td>8</td>\n",
       "      <td>5</td>\n",
       "    </tr>\n",
       "    <tr>\n",
       "      <th>8</th>\n",
       "      <td>Launch a promotion that gives users discounts ...</td>\n",
       "      <td>1</td>\n",
       "      <td>9</td>\n",
       "      <td>9</td>\n",
       "      <td>5</td>\n",
       "    </tr>\n",
       "  </tbody>\n",
       "</table>\n",
       "</div>"
      ],
      "text/plain": [
       "                                          hypothesis  reach  impact  \\\n",
       "0  Add two new channels for attracting traffic. T...      3      10   \n",
       "1  Launch your own delivery service. This will sh...      2       5   \n",
       "2  Add product recommendation blocks to the store...      8       3   \n",
       "3  Change the category structure. This will incre...      8       3   \n",
       "4  Change the background color on the main page. ...      3       1   \n",
       "5  Add a customer review page. This will increase...      3       2   \n",
       "6  Show banners with current offers and sales on ...      5       3   \n",
       "7  Add a subscription form to all the main pages....     10       7   \n",
       "8  Launch a promotion that gives users discounts ...      1       9   \n",
       "\n",
       "   confidence  effort  \n",
       "0           8       6  \n",
       "1           4      10  \n",
       "2           7       3  \n",
       "3           3       8  \n",
       "4           1       1  \n",
       "5           2       3  \n",
       "6           8       3  \n",
       "7           8       5  \n",
       "8           9       5  "
      ]
     },
     "execution_count": 15,
     "metadata": {},
     "output_type": "execute_result"
    }
   ],
   "source": [
    "hypotheses"
   ]
  },
  {
   "cell_type": "markdown",
   "metadata": {},
   "source": [
    "### Cálculo do ICE e RICE:"
   ]
  },
  {
   "cell_type": "code",
   "execution_count": 16,
   "metadata": {},
   "outputs": [
    {
     "data": {
      "text/html": [
       "<div>\n",
       "<style scoped>\n",
       "    .dataframe tbody tr th:only-of-type {\n",
       "        vertical-align: middle;\n",
       "    }\n",
       "\n",
       "    .dataframe tbody tr th {\n",
       "        vertical-align: top;\n",
       "    }\n",
       "\n",
       "    .dataframe thead th {\n",
       "        text-align: right;\n",
       "    }\n",
       "</style>\n",
       "<table border=\"1\" class=\"dataframe\">\n",
       "  <thead>\n",
       "    <tr style=\"text-align: right;\">\n",
       "      <th></th>\n",
       "      <th>hypothesis</th>\n",
       "      <th>ICE</th>\n",
       "    </tr>\n",
       "  </thead>\n",
       "  <tbody>\n",
       "    <tr>\n",
       "      <th>8</th>\n",
       "      <td>Launch a promotion that gives users discounts ...</td>\n",
       "      <td>16.20</td>\n",
       "    </tr>\n",
       "    <tr>\n",
       "      <th>0</th>\n",
       "      <td>Add two new channels for attracting traffic. T...</td>\n",
       "      <td>13.33</td>\n",
       "    </tr>\n",
       "    <tr>\n",
       "      <th>7</th>\n",
       "      <td>Add a subscription form to all the main pages....</td>\n",
       "      <td>11.20</td>\n",
       "    </tr>\n",
       "    <tr>\n",
       "      <th>6</th>\n",
       "      <td>Show banners with current offers and sales on ...</td>\n",
       "      <td>8.00</td>\n",
       "    </tr>\n",
       "    <tr>\n",
       "      <th>2</th>\n",
       "      <td>Add product recommendation blocks to the store...</td>\n",
       "      <td>7.00</td>\n",
       "    </tr>\n",
       "  </tbody>\n",
       "</table>\n",
       "</div>"
      ],
      "text/plain": [
       "                                          hypothesis   ICE\n",
       "8  Launch a promotion that gives users discounts ... 16.20\n",
       "0  Add two new channels for attracting traffic. T... 13.33\n",
       "7  Add a subscription form to all the main pages.... 11.20\n",
       "6  Show banners with current offers and sales on ...  8.00\n",
       "2  Add product recommendation blocks to the store...  7.00"
      ]
     },
     "metadata": {},
     "output_type": "display_data"
    },
    {
     "data": {
      "text/html": [
       "<div>\n",
       "<style scoped>\n",
       "    .dataframe tbody tr th:only-of-type {\n",
       "        vertical-align: middle;\n",
       "    }\n",
       "\n",
       "    .dataframe tbody tr th {\n",
       "        vertical-align: top;\n",
       "    }\n",
       "\n",
       "    .dataframe thead th {\n",
       "        text-align: right;\n",
       "    }\n",
       "</style>\n",
       "<table border=\"1\" class=\"dataframe\">\n",
       "  <thead>\n",
       "    <tr style=\"text-align: right;\">\n",
       "      <th></th>\n",
       "      <th>hypothesis</th>\n",
       "      <th>RICE</th>\n",
       "    </tr>\n",
       "  </thead>\n",
       "  <tbody>\n",
       "    <tr>\n",
       "      <th>7</th>\n",
       "      <td>Add a subscription form to all the main pages....</td>\n",
       "      <td>112.00</td>\n",
       "    </tr>\n",
       "    <tr>\n",
       "      <th>2</th>\n",
       "      <td>Add product recommendation blocks to the store...</td>\n",
       "      <td>56.00</td>\n",
       "    </tr>\n",
       "    <tr>\n",
       "      <th>0</th>\n",
       "      <td>Add two new channels for attracting traffic. T...</td>\n",
       "      <td>40.00</td>\n",
       "    </tr>\n",
       "    <tr>\n",
       "      <th>6</th>\n",
       "      <td>Show banners with current offers and sales on ...</td>\n",
       "      <td>40.00</td>\n",
       "    </tr>\n",
       "    <tr>\n",
       "      <th>8</th>\n",
       "      <td>Launch a promotion that gives users discounts ...</td>\n",
       "      <td>16.20</td>\n",
       "    </tr>\n",
       "  </tbody>\n",
       "</table>\n",
       "</div>"
      ],
      "text/plain": [
       "                                          hypothesis   RICE\n",
       "7  Add a subscription form to all the main pages.... 112.00\n",
       "2  Add product recommendation blocks to the store...  56.00\n",
       "0  Add two new channels for attracting traffic. T...  40.00\n",
       "6  Show banners with current offers and sales on ...  40.00\n",
       "8  Launch a promotion that gives users discounts ...  16.20"
      ]
     },
     "metadata": {},
     "output_type": "display_data"
    }
   ],
   "source": [
    "hypotheses['RICE'] = (hypotheses['impact'] * hypotheses['confidence'] * hypotheses['reach'] ) / hypotheses['effort']\n",
    "\n",
    "hypotheses['ICE'] = (hypotheses['impact'] * hypotheses['confidence']) / hypotheses['effort']\n",
    "\n",
    "display(hypotheses[['hypothesis','ICE']].sort_values(by='ICE', ascending=False).head())\n",
    "\n",
    "display(hypotheses[['hypothesis','RICE']].sort_values(by='RICE', ascending=False).head())"
   ]
  },
  {
   "cell_type": "code",
   "execution_count": 17,
   "metadata": {},
   "outputs": [
    {
     "data": {
      "text/html": [
       "<div>\n",
       "<style scoped>\n",
       "    .dataframe tbody tr th:only-of-type {\n",
       "        vertical-align: middle;\n",
       "    }\n",
       "\n",
       "    .dataframe tbody tr th {\n",
       "        vertical-align: top;\n",
       "    }\n",
       "\n",
       "    .dataframe thead th {\n",
       "        text-align: right;\n",
       "    }\n",
       "</style>\n",
       "<table border=\"1\" class=\"dataframe\">\n",
       "  <thead>\n",
       "    <tr style=\"text-align: right;\">\n",
       "      <th></th>\n",
       "      <th>hypothesis</th>\n",
       "      <th>ICE</th>\n",
       "      <th>RICE</th>\n",
       "    </tr>\n",
       "  </thead>\n",
       "  <tbody>\n",
       "    <tr>\n",
       "      <th>0</th>\n",
       "      <td>Add a subscription form to all the main pages....</td>\n",
       "      <td>11.20</td>\n",
       "      <td>112.00</td>\n",
       "    </tr>\n",
       "    <tr>\n",
       "      <th>1</th>\n",
       "      <td>Add product recommendation blocks to the store...</td>\n",
       "      <td>7.00</td>\n",
       "      <td>56.00</td>\n",
       "    </tr>\n",
       "    <tr>\n",
       "      <th>2</th>\n",
       "      <td>Add two new channels for attracting traffic. T...</td>\n",
       "      <td>13.33</td>\n",
       "      <td>40.00</td>\n",
       "    </tr>\n",
       "    <tr>\n",
       "      <th>3</th>\n",
       "      <td>Show banners with current offers and sales on ...</td>\n",
       "      <td>8.00</td>\n",
       "      <td>40.00</td>\n",
       "    </tr>\n",
       "    <tr>\n",
       "      <th>4</th>\n",
       "      <td>Launch a promotion that gives users discounts ...</td>\n",
       "      <td>16.20</td>\n",
       "      <td>16.20</td>\n",
       "    </tr>\n",
       "  </tbody>\n",
       "</table>\n",
       "</div>"
      ],
      "text/plain": [
       "                                          hypothesis   ICE   RICE\n",
       "0  Add a subscription form to all the main pages.... 11.20 112.00\n",
       "1  Add product recommendation blocks to the store...  7.00  56.00\n",
       "2  Add two new channels for attracting traffic. T... 13.33  40.00\n",
       "3  Show banners with current offers and sales on ...  8.00  40.00\n",
       "4  Launch a promotion that gives users discounts ... 16.20  16.20"
      ]
     },
     "execution_count": 17,
     "metadata": {},
     "output_type": "execute_result"
    }
   ],
   "source": [
    "hypo_table = hypotheses.pivot_table(index ='hypothesis', values=['ICE','RICE'])\\\n",
    "            .sort_values(by='RICE', ascending=False)\\\n",
    "            .head().reset_index()\n",
    "\n",
    "hypo_table"
   ]
  },
  {
   "cell_type": "code",
   "execution_count": 18,
   "metadata": {},
   "outputs": [
    {
     "data": {
      "image/png": "[encoded data removed]",
      "text/plain": [
       "<Figure size 432x288 with 1 Axes>"
      ]
     },
     "metadata": {
      "needs_background": "light"
     },
     "output_type": "display_data"
    },
    {
     "data": {
      "text/html": [
       "<div>\n",
       "<style scoped>\n",
       "    .dataframe tbody tr th:only-of-type {\n",
       "        vertical-align: middle;\n",
       "    }\n",
       "\n",
       "    .dataframe tbody tr th {\n",
       "        vertical-align: top;\n",
       "    }\n",
       "\n",
       "    .dataframe thead th {\n",
       "        text-align: right;\n",
       "    }\n",
       "</style>\n",
       "<table border=\"1\" class=\"dataframe\">\n",
       "  <thead>\n",
       "    <tr style=\"text-align: right;\">\n",
       "      <th></th>\n",
       "      <th>index</th>\n",
       "      <th>hypothesis</th>\n",
       "    </tr>\n",
       "  </thead>\n",
       "  <tbody>\n",
       "    <tr>\n",
       "      <th>0</th>\n",
       "      <td>0</td>\n",
       "      <td>Add a subscription form to all the main pages....</td>\n",
       "    </tr>\n",
       "    <tr>\n",
       "      <th>1</th>\n",
       "      <td>1</td>\n",
       "      <td>Add product recommendation blocks to the store...</td>\n",
       "    </tr>\n",
       "    <tr>\n",
       "      <th>2</th>\n",
       "      <td>2</td>\n",
       "      <td>Add two new channels for attracting traffic. T...</td>\n",
       "    </tr>\n",
       "    <tr>\n",
       "      <th>3</th>\n",
       "      <td>3</td>\n",
       "      <td>Show banners with current offers and sales on ...</td>\n",
       "    </tr>\n",
       "    <tr>\n",
       "      <th>4</th>\n",
       "      <td>4</td>\n",
       "      <td>Launch a promotion that gives users discounts ...</td>\n",
       "    </tr>\n",
       "  </tbody>\n",
       "</table>\n",
       "</div>"
      ],
      "text/plain": [
       "   index                                         hypothesis\n",
       "0      0  Add a subscription form to all the main pages....\n",
       "1      1  Add product recommendation blocks to the store...\n",
       "2      2  Add two new channels for attracting traffic. T...\n",
       "3      3  Show banners with current offers and sales on ...\n",
       "4      4  Launch a promotion that gives users discounts ..."
      ]
     },
     "metadata": {},
     "output_type": "display_data"
    }
   ],
   "source": [
    "hypo_table.reset_index(inplace=True)\n",
    "hypo_table.plot(x='index', y=['ICE','RICE'], kind='bar')\n",
    "plt.title('ICE vs RICE')\n",
    "plt.xlabel('Hipótese Index')\n",
    "plt.ylabel('Pontuação')\n",
    "plt.legend()\n",
    "plt.show()\n",
    "\n",
    "display(hypo_table[['index','hypothesis']])"
   ]
  },
  {
   "cell_type": "code",
   "execution_count": 19,
   "metadata": {
    "scrolled": true
   },
   "outputs": [
    {
     "data": {
      "text/plain": [
       "['Add a subscription form to all the main pages. This will help you compile a mailing list',\n",
       " \"Add product recommendation blocks to the store's site. This will increase conversion and average purchase size\",\n",
       " 'Add two new channels for attracting traffic. This will bring 30% more users',\n",
       " 'Show banners with current offers and sales on the main page. This will boost conversion',\n",
       " 'Launch a promotion that gives users discounts on their birthdays']"
      ]
     },
     "execution_count": 19,
     "metadata": {},
     "output_type": "execute_result"
    }
   ],
   "source": [
    "hypo_table['hypothesis'].tolist()"
   ]
  },
  {
   "cell_type": "markdown",
   "metadata": {},
   "source": [
    "Pelo metódo RICE foi identificado que as três principais hipóteses que devem ser testadas são:\n",
    "- Add a subscription form to all the main pages. This will help you compile a mailing list.\n",
    "- Add product recommendation blocks to the store's site. This will increase conversion and average purchase size.\n",
    "- Add two new channels for attracting traffic. This will bring 30% more users. \n",
    "\n",
    "Essas três foram relevantes no metódo ICE e são as que possuem maior alcance."
   ]
  },
  {
   "cell_type": "markdown",
   "metadata": {},
   "source": [
    "## Análise de teste A/B"
   ]
  },
  {
   "cell_type": "markdown",
   "metadata": {},
   "source": [
    "Para analisar a diferença de receita, conversão e tamanho médio do pedido entre o grupa A e B, os dataframes serão agregados e serão cumulativos, pois métricas cumulativa tendem a convergir e se agrupar em torno de uma média específica."
   ]
  },
  {
   "cell_type": "code",
   "execution_count": 20,
   "metadata": {},
   "outputs": [
    {
     "data": {
      "text/html": [
       "<div>\n",
       "<style scoped>\n",
       "    .dataframe tbody tr th:only-of-type {\n",
       "        vertical-align: middle;\n",
       "    }\n",
       "\n",
       "    .dataframe tbody tr th {\n",
       "        vertical-align: top;\n",
       "    }\n",
       "\n",
       "    .dataframe thead th {\n",
       "        text-align: right;\n",
       "    }\n",
       "</style>\n",
       "<table border=\"1\" class=\"dataframe\">\n",
       "  <thead>\n",
       "    <tr style=\"text-align: right;\">\n",
       "      <th></th>\n",
       "      <th>date</th>\n",
       "      <th>group</th>\n",
       "      <th>orders_clean</th>\n",
       "      <th>buyers</th>\n",
       "      <th>revenue</th>\n",
       "      <th>visits</th>\n",
       "      <th>mean_vol</th>\n",
       "      <th>conversion</th>\n",
       "    </tr>\n",
       "  </thead>\n",
       "  <tbody>\n",
       "    <tr>\n",
       "      <th>0</th>\n",
       "      <td>2019-08-01</td>\n",
       "      <td>A</td>\n",
       "      <td>24</td>\n",
       "      <td>20</td>\n",
       "      <td>2356.80</td>\n",
       "      <td>719</td>\n",
       "      <td>98.20</td>\n",
       "      <td>0.03</td>\n",
       "    </tr>\n",
       "    <tr>\n",
       "      <th>1</th>\n",
       "      <td>2019-08-01</td>\n",
       "      <td>B</td>\n",
       "      <td>21</td>\n",
       "      <td>20</td>\n",
       "      <td>1620.00</td>\n",
       "      <td>713</td>\n",
       "      <td>77.14</td>\n",
       "      <td>0.03</td>\n",
       "    </tr>\n",
       "    <tr>\n",
       "      <th>2</th>\n",
       "      <td>2019-08-02</td>\n",
       "      <td>A</td>\n",
       "      <td>43</td>\n",
       "      <td>37</td>\n",
       "      <td>3825.10</td>\n",
       "      <td>1338</td>\n",
       "      <td>88.96</td>\n",
       "      <td>0.03</td>\n",
       "    </tr>\n",
       "    <tr>\n",
       "      <th>3</th>\n",
       "      <td>2019-08-02</td>\n",
       "      <td>B</td>\n",
       "      <td>46</td>\n",
       "      <td>43</td>\n",
       "      <td>4279.00</td>\n",
       "      <td>1294</td>\n",
       "      <td>93.02</td>\n",
       "      <td>0.04</td>\n",
       "    </tr>\n",
       "    <tr>\n",
       "      <th>4</th>\n",
       "      <td>2019-08-03</td>\n",
       "      <td>A</td>\n",
       "      <td>67</td>\n",
       "      <td>61</td>\n",
       "      <td>5640.30</td>\n",
       "      <td>1845</td>\n",
       "      <td>84.18</td>\n",
       "      <td>0.04</td>\n",
       "    </tr>\n",
       "  </tbody>\n",
       "</table>\n",
       "</div>"
      ],
      "text/plain": [
       "        date group  orders_clean  buyers  revenue  visits  mean_vol  \\\n",
       "0 2019-08-01     A            24      20  2356.80     719     98.20   \n",
       "1 2019-08-01     B            21      20  1620.00     713     77.14   \n",
       "2 2019-08-02     A            43      37  3825.10    1338     88.96   \n",
       "3 2019-08-02     B            46      43  4279.00    1294     93.02   \n",
       "4 2019-08-03     A            67      61  5640.30    1845     84.18   \n",
       "\n",
       "   conversion  \n",
       "0        0.03  \n",
       "1        0.03  \n",
       "2        0.03  \n",
       "3        0.04  \n",
       "4        0.04  "
      ]
     },
     "metadata": {},
     "output_type": "display_data"
    }
   ],
   "source": [
    "# construindo um vetor com valores de pares unívocos de grupos de datas\n",
    "datesGroups = orders_clean[['date','group']].drop_duplicates()\n",
    "\n",
    "# obtendo dados diários cumulativos agregados sobre pedidos \n",
    "orders_cleanAggregated = datesGroups\\\n",
    "    .apply(lambda x: orders_clean[np.logical_and(orders_clean['date'] <= x['date'], orders_clean['group'] == x['group'])]\\\n",
    "    .agg({'date' : 'max', 'group' : 'max', 'transactionId' : pd.Series.nunique,\\\n",
    "          'visitorId' : pd.Series.nunique, 'revenue' : 'sum'}), axis=1)\\\n",
    "    .sort_values(by=['date','group'])\n",
    "\n",
    "# obtendo dados diários cumulativos agregados sobre visitantes  \n",
    "visitsAggregated = datesGroups\\\n",
    "    .apply(lambda x: visits[np.logical_and(visits['date'] <= x['date'], visits['group'] == x['group'])]\\\n",
    "    .agg({'date' : 'max', 'group' : 'max', 'visits' : 'sum'}), axis=1)\\\n",
    "    .sort_values(by=['date','group'])\n",
    "\n",
    "# juntando as duas tabelas em uma e dando nomes descritivos para suas colunas\n",
    "cumulativeData = orders_cleanAggregated.merge(visitsAggregated, left_on=['date', 'group'],\\\n",
    "                                        right_on=['date', 'group'])\n",
    "\n",
    "cumulativeData.columns = ['date', 'group', 'orders_clean', 'buyers', 'revenue', 'visits']\n",
    "\n",
    "# Calculo do tamanho medio do pedido\n",
    "cumulativeData['mean_vol'] = cumulativeData['revenue'] /  cumulativeData['orders_clean']\n",
    "\n",
    "# Calculo da conversão \n",
    "cumulativeData['conversion'] = cumulativeData['orders_clean'] /  cumulativeData['visits']\n",
    "\n",
    "display(cumulativeData.head(5)) "
   ]
  },
  {
   "cell_type": "code",
   "execution_count": 21,
   "metadata": {},
   "outputs": [
    {
     "data": {
      "text/html": [
       "<div>\n",
       "<style scoped>\n",
       "    .dataframe tbody tr th:only-of-type {\n",
       "        vertical-align: middle;\n",
       "    }\n",
       "\n",
       "    .dataframe tbody tr th {\n",
       "        vertical-align: top;\n",
       "    }\n",
       "\n",
       "    .dataframe thead th {\n",
       "        text-align: right;\n",
       "    }\n",
       "</style>\n",
       "<table border=\"1\" class=\"dataframe\">\n",
       "  <thead>\n",
       "    <tr style=\"text-align: right;\">\n",
       "      <th></th>\n",
       "      <th>date</th>\n",
       "      <th>groupA</th>\n",
       "      <th>orders_cleanA</th>\n",
       "      <th>buyersA</th>\n",
       "      <th>revenueA</th>\n",
       "      <th>visitsA</th>\n",
       "      <th>mean_volA</th>\n",
       "      <th>conversionA</th>\n",
       "      <th>groupB</th>\n",
       "      <th>orders_cleanB</th>\n",
       "      <th>buyersB</th>\n",
       "      <th>revenueB</th>\n",
       "      <th>visitsB</th>\n",
       "      <th>mean_volB</th>\n",
       "      <th>conversionB</th>\n",
       "    </tr>\n",
       "  </thead>\n",
       "  <tbody>\n",
       "    <tr>\n",
       "      <th>0</th>\n",
       "      <td>2019-08-01</td>\n",
       "      <td>A</td>\n",
       "      <td>24</td>\n",
       "      <td>20</td>\n",
       "      <td>2356.80</td>\n",
       "      <td>719</td>\n",
       "      <td>98.20</td>\n",
       "      <td>0.03</td>\n",
       "      <td>B</td>\n",
       "      <td>21</td>\n",
       "      <td>20</td>\n",
       "      <td>1620.00</td>\n",
       "      <td>713</td>\n",
       "      <td>77.14</td>\n",
       "      <td>0.03</td>\n",
       "    </tr>\n",
       "    <tr>\n",
       "      <th>1</th>\n",
       "      <td>2019-08-02</td>\n",
       "      <td>A</td>\n",
       "      <td>43</td>\n",
       "      <td>37</td>\n",
       "      <td>3825.10</td>\n",
       "      <td>1338</td>\n",
       "      <td>88.96</td>\n",
       "      <td>0.03</td>\n",
       "      <td>B</td>\n",
       "      <td>46</td>\n",
       "      <td>43</td>\n",
       "      <td>4279.00</td>\n",
       "      <td>1294</td>\n",
       "      <td>93.02</td>\n",
       "      <td>0.04</td>\n",
       "    </tr>\n",
       "    <tr>\n",
       "      <th>2</th>\n",
       "      <td>2019-08-03</td>\n",
       "      <td>A</td>\n",
       "      <td>67</td>\n",
       "      <td>61</td>\n",
       "      <td>5640.30</td>\n",
       "      <td>1845</td>\n",
       "      <td>84.18</td>\n",
       "      <td>0.04</td>\n",
       "      <td>B</td>\n",
       "      <td>62</td>\n",
       "      <td>59</td>\n",
       "      <td>6085.80</td>\n",
       "      <td>1803</td>\n",
       "      <td>98.16</td>\n",
       "      <td>0.03</td>\n",
       "    </tr>\n",
       "    <tr>\n",
       "      <th>3</th>\n",
       "      <td>2019-08-04</td>\n",
       "      <td>A</td>\n",
       "      <td>79</td>\n",
       "      <td>73</td>\n",
       "      <td>6326.00</td>\n",
       "      <td>2562</td>\n",
       "      <td>80.08</td>\n",
       "      <td>0.03</td>\n",
       "      <td>B</td>\n",
       "      <td>83</td>\n",
       "      <td>75</td>\n",
       "      <td>8264.00</td>\n",
       "      <td>2573</td>\n",
       "      <td>99.57</td>\n",
       "      <td>0.03</td>\n",
       "    </tr>\n",
       "    <tr>\n",
       "      <th>4</th>\n",
       "      <td>2019-08-05</td>\n",
       "      <td>A</td>\n",
       "      <td>103</td>\n",
       "      <td>95</td>\n",
       "      <td>8119.30</td>\n",
       "      <td>3318</td>\n",
       "      <td>78.83</td>\n",
       "      <td>0.03</td>\n",
       "      <td>B</td>\n",
       "      <td>107</td>\n",
       "      <td>97</td>\n",
       "      <td>9953.80</td>\n",
       "      <td>3280</td>\n",
       "      <td>93.03</td>\n",
       "      <td>0.03</td>\n",
       "    </tr>\n",
       "  </tbody>\n",
       "</table>\n",
       "</div>"
      ],
      "text/plain": [
       "        date groupA  orders_cleanA  buyersA  revenueA  visitsA  mean_volA  \\\n",
       "0 2019-08-01      A             24       20   2356.80      719      98.20   \n",
       "1 2019-08-02      A             43       37   3825.10     1338      88.96   \n",
       "2 2019-08-03      A             67       61   5640.30     1845      84.18   \n",
       "3 2019-08-04      A             79       73   6326.00     2562      80.08   \n",
       "4 2019-08-05      A            103       95   8119.30     3318      78.83   \n",
       "\n",
       "   conversionA groupB  orders_cleanB  buyersB  revenueB  visitsB  mean_volB  \\\n",
       "0         0.03      B             21       20   1620.00      713      77.14   \n",
       "1         0.03      B             46       43   4279.00     1294      93.02   \n",
       "2         0.04      B             62       59   6085.80     1803      98.16   \n",
       "3         0.03      B             83       75   8264.00     2573      99.57   \n",
       "4         0.03      B            107       97   9953.80     3280      93.03   \n",
       "\n",
       "   conversionB  \n",
       "0         0.03  \n",
       "1         0.04  \n",
       "2         0.03  \n",
       "3         0.03  \n",
       "4         0.03  "
      ]
     },
     "execution_count": 21,
     "metadata": {},
     "output_type": "execute_result"
    }
   ],
   "source": [
    "# DataFrame com pedidos cumulativos e receita cumulativa por dia, grupo A\n",
    "cumulativeA = cumulativeData.query('group == \"A\"')\n",
    "\n",
    "# DataFrame com pedidos cumulativos e receita cumulativa por dia, grupo B\n",
    "cumulativeB = cumulativeData.query('group == \"B\"')\n",
    "\n",
    "# reunindo os dados em um DataFrame\n",
    "mergedCumulative = cumulativeA.merge(cumulativeB, left_on='date', right_on='date', how='left', suffixes=['A', 'B'])\n",
    "mergedCumulative.head()"
   ]
  },
  {
   "cell_type": "code",
   "execution_count": 22,
   "metadata": {},
   "outputs": [],
   "source": [
    "def plot_ax(title, x, y, relative= False, legend = True, axis =False):\n",
    "    plt.title(title)\n",
    "    plt.xlabel(x)\n",
    "    plt.ylabel(y)\n",
    "    plt.xticks(rotation=45)\n",
    "    if legend == True:\n",
    "        plt.legend()\n",
    "    if relative == True:\n",
    "        plt.axhline(y=0, color='black', linestyle='--')\n",
    "    if axis == True:\n",
    "        plt.axis([pd.to_datetime('2019-08-01'), pd.to_datetime('2019-09-01'), 0, 0.05])\n",
    "    plt.show()"
   ]
  },
  {
   "cell_type": "markdown",
   "metadata": {},
   "source": [
    "### Gráfico da receita acumulada por grupo. "
   ]
  },
  {
   "cell_type": "markdown",
   "metadata": {},
   "source": [
    "Será anlisado a receita entre os dois grupos:"
   ]
  },
  {
   "cell_type": "code",
   "execution_count": 23,
   "metadata": {},
   "outputs": [
    {
     "data": {
      "image/png": "[encoded data removed]",
      "text/plain": [
       "<Figure size 432x288 with 1 Axes>"
      ]
     },
     "metadata": {
      "needs_background": "light"
     },
     "output_type": "display_data"
    }
   ],
   "source": [
    "# construindo o gráfico de receita do grupo A \n",
    "plt.plot(mergedCumulative['date'], mergedCumulative['revenueA'], label='A')\n",
    "\n",
    "# construindo o gráfico de receita do grupo B \n",
    "plt.plot(mergedCumulative['date'], mergedCumulative['revenueB'], label='B')\n",
    "\n",
    "plot_ax('Receita Acumulada por Grupo','Data','Receita')"
   ]
  },
  {
   "cell_type": "markdown",
   "metadata": {},
   "source": [
    "O gráfico demonstra que a receita de B foi melhor que a receita de A, mas houve uma disparada da receita em B, o que pode significar valores extremos no grupo. Sendo assim, é necessário filtrar os dados para ter uma analise mais sólida."
   ]
  },
  {
   "cell_type": "markdown",
   "metadata": {},
   "source": [
    "### Gráfico do tamanho médio acumulado do pedido por grupo."
   ]
  },
  {
   "cell_type": "code",
   "execution_count": 24,
   "metadata": {},
   "outputs": [
    {
     "data": {
      "image/png": "[encoded data removed]",
      "text/plain": [
       "<Figure size 432x288 with 1 Axes>"
      ]
     },
     "metadata": {
      "needs_background": "light"
     },
     "output_type": "display_data"
    }
   ],
   "source": [
    "plt.plot(mergedCumulative['date'], mergedCumulative['mean_volA'], label='A')\n",
    "plt.plot(mergedCumulative['date'], mergedCumulative['mean_volB'], label='B')\n",
    "\n",
    "plot_ax('Tamanho médio acumulado do pedido por grupo','Data','Volume Médio')"
   ]
  },
  {
   "cell_type": "markdown",
   "metadata": {},
   "source": [
    "Em relação ao volume médio, o grupo A e B mudaram de posição mais de uma vez, com o grupo B performando melhor no final mas em tendência de queda, o grupo A parece ter estabilizado. Nesse gráfico também é possível -identificar valores extremos no grupo B."
   ]
  },
  {
   "cell_type": "markdown",
   "metadata": {},
   "source": [
    "### Gráfico da diferença relativa no tamanho médio acumulado do pedido para o grupo B em comparação com o grupo A. "
   ]
  },
  {
   "cell_type": "code",
   "execution_count": 25,
   "metadata": {},
   "outputs": [
    {
     "data": {
      "image/png": "[encoded data removed]",
      "text/plain": [
       "<Figure size 432x288 with 1 Axes>"
      ]
     },
     "metadata": {
      "needs_background": "light"
     },
     "output_type": "display_data"
    }
   ],
   "source": [
    "# construindo um gráfico de diferença relativa para os volumes médios de compra\n",
    "plt.plot(mergedCumulative['date'], (mergedCumulative['mean_volB'])/(mergedCumulative['mean_volA'])-1)\n",
    "\n",
    "# acrescentando o eixo X\n",
    "plot_ax('Diferença relativa do grupo B en relação a A no tamanho médio acumulado do pedido','Data','Volume Médio', True, False)"
   ]
  },
  {
   "cell_type": "markdown",
   "metadata": {},
   "source": [
    "Pela diferença relativa não podemos dizer que o valor tenha de B tenha estabilizado, ele teve vários picos e quedas, chegando a ser 40% melhor que A, valores extremos o estão afetando, após o pico o grupo B está em tendencia de queda."
   ]
  },
  {
   "cell_type": "markdown",
   "metadata": {},
   "source": [
    "### Gráfico da taxa de conversão de cada grupo como a proporção de pedidos para o número de visitas para cada dia. "
   ]
  },
  {
   "cell_type": "code",
   "execution_count": 26,
   "metadata": {
    "scrolled": true
   },
   "outputs": [
    {
     "data": {
      "image/png": "[encoded data removed]",
      "text/plain": [
       "<Figure size 432x288 with 1 Axes>"
      ]
     },
     "metadata": {
      "needs_background": "light"
     },
     "output_type": "display_data"
    }
   ],
   "source": [
    "plt.plot(mergedCumulative['date'], mergedCumulative['conversionA'], label='A')\n",
    "plt.plot(mergedCumulative['date'], mergedCumulative['conversionB'], label='B')\n",
    "\n",
    "plot_ax('Taxa de Conversão por Grupo','Data','Taxa de Conversão', relative= False, legend = True, axis =True)"
   ]
  },
  {
   "cell_type": "markdown",
   "metadata": {},
   "source": [
    "A taxa de conversão entre os dois grupos parece ter estabilizado, com o grupo B sendo melhor que o grupo A. È necessário um teste estatístico para comprovar. "
   ]
  },
  {
   "cell_type": "markdown",
   "metadata": {},
   "source": [
    "### Gráfico da diferença relativa na conversão cumulativa para o grupo B em comparação com o grupo A. "
   ]
  },
  {
   "cell_type": "code",
   "execution_count": 27,
   "metadata": {},
   "outputs": [
    {
     "data": {
      "image/png": "[encoded data removed]",
      "text/plain": [
       "<Figure size 432x288 with 1 Axes>"
      ]
     },
     "metadata": {
      "needs_background": "light"
     },
     "output_type": "display_data"
    }
   ],
   "source": [
    "# construindo um gráfico de diferença relativa para as conversões\n",
    "plt.plot(mergedCumulative['date'], (mergedCumulative['conversionB'])/(mergedCumulative['conversionA'])-1)\n",
    "\n",
    "# acrescentando o eixo X\n",
    "plt.axhline(y=0.2, color='grey', linestyle='--')\n",
    "(plot_ax('Diferença Relativa na Conversão por grupo','Data','Diferença entre as Taxas de Conversão',\n",
    "         relative= True, legend = False, axis =False))"
   ]
  },
  {
   "cell_type": "markdown",
   "metadata": {},
   "source": [
    "Pelo gráfico da diferença relativa, podemos ver que o grupo B chegou a ter uma conversão 25% do que A, com as conversões estabilizada e uma diferença de 20% são indícios for tes que B foi melhor que A."
   ]
  },
  {
   "cell_type": "markdown",
   "metadata": {},
   "source": [
    "### Calculo dos percentis 90, 95 e 99 para o número de pedidos por usuário. Definido o ponto em que um ponto de dados se torna uma anomalia."
   ]
  },
  {
   "cell_type": "code",
   "execution_count": 28,
   "metadata": {
    "scrolled": true
   },
   "outputs": [
    {
     "data": {
      "text/plain": [
       "1     937\n",
       "2      64\n",
       "3      17\n",
       "5       6\n",
       "4       3\n",
       "11      2\n",
       "8       1\n",
       "9       1\n",
       "Name: transaction, dtype: int64"
      ]
     },
     "metadata": {},
     "output_type": "display_data"
    },
    {
     "name": "stdout",
     "output_type": "stream",
     "text": [
      "Percentis 90, 95 e 99:\n",
      "[1. 2. 4.]\n"
     ]
    }
   ],
   "source": [
    "transaction_quant= orders_clean.groupby('visitorId', as_index=False).agg({'transactionId': pd.Series.nunique})\n",
    "\n",
    "transaction_quant.columns = ['visitorId', 'transaction']\n",
    "\n",
    "t_quant = transaction_quant['transaction'].value_counts()\n",
    "\n",
    "display(t_quant)\n",
    "print('Percentis 90, 95 e 99:')\n",
    "print(np.percentile(transaction_quant['transaction'], [90, 95,99]))\n"
   ]
  },
  {
   "cell_type": "code",
   "execution_count": 29,
   "metadata": {},
   "outputs": [
    {
     "data": {
      "image/png": "[encoded data removed]",
      "text/plain": [
       "<Figure size 432x288 with 1 Axes>"
      ]
     },
     "metadata": {
      "needs_background": "light"
     },
     "output_type": "display_data"
    }
   ],
   "source": [
    "t_quant.plot(x=0, y=1, kind='bar')\n",
    "(plot_ax('Número de Usuários pelo Número de Pedidos','Número de Pedidos','Número de Usuários',\n",
    "         relative= False, legend = False, axis =False))"
   ]
  },
  {
   "cell_type": "code",
   "execution_count": 30,
   "metadata": {},
   "outputs": [
    {
     "data": {
      "image/png": "[encoded data removed]",
      "text/plain": [
       "<Figure size 432x288 with 1 Axes>"
      ]
     },
     "metadata": {
      "needs_background": "light"
     },
     "output_type": "display_data"
    }
   ],
   "source": [
    "x_values = pd.Series(range(0,len(transaction_quant['transaction'])))\n",
    "plt.scatter(x_values, transaction_quant['transaction'])\n",
    "(plot_ax('Dispersão do  Volume do Pedido','Usuário','Volume do Pedido',\n",
    "         relative= True, legend = False, axis =False))\n"
   ]
  },
  {
   "cell_type": "markdown",
   "metadata": {},
   "source": [
    "Menos de 5% dos dados tem mais do que dois pedidos e menos de 1% tem mais de 4, sendo assim, decidi que acima de dois pedidos pode ser considerado uma anomalia."
   ]
  },
  {
   "cell_type": "markdown",
   "metadata": {},
   "source": [
    "### Calcule os percentis 90, 95 e 99 dos preços dos pedidos e gráfico de dispersão dos preços dos pedidos. "
   ]
  },
  {
   "cell_type": "code",
   "execution_count": 31,
   "metadata": {},
   "outputs": [
    {
     "data": {
      "text/plain": [
       "count    1197.00\n",
       "mean      131.49\n",
       "std       603.00\n",
       "min         5.00\n",
       "25%        20.80\n",
       "50%        50.20\n",
       "75%       130.40\n",
       "max     19920.40\n",
       "Name: revenue, dtype: float64"
      ]
     },
     "metadata": {},
     "output_type": "display_data"
    },
    {
     "name": "stdout",
     "output_type": "stream",
     "text": [
      "Percentis 90, 95 e 99:\n",
      "[282.48  435.54  900.904]\n"
     ]
    }
   ],
   "source": [
    "display(orders_clean['revenue'].describe())\n",
    "print('Percentis 90, 95 e 99:')\n",
    "print(np.percentile(orders['revenue'], [90, 95,99]))"
   ]
  },
  {
   "cell_type": "code",
   "execution_count": 32,
   "metadata": {},
   "outputs": [
    {
     "data": {
      "text/html": [
       "<div>\n",
       "<style scoped>\n",
       "    .dataframe tbody tr th:only-of-type {\n",
       "        vertical-align: middle;\n",
       "    }\n",
       "\n",
       "    .dataframe tbody tr th {\n",
       "        vertical-align: top;\n",
       "    }\n",
       "\n",
       "    .dataframe thead th {\n",
       "        text-align: right;\n",
       "    }\n",
       "</style>\n",
       "<table border=\"1\" class=\"dataframe\">\n",
       "  <thead>\n",
       "    <tr style=\"text-align: right;\">\n",
       "      <th></th>\n",
       "      <th>transactionId</th>\n",
       "      <th>visitorId</th>\n",
       "      <th>date</th>\n",
       "      <th>revenue</th>\n",
       "      <th>group</th>\n",
       "    </tr>\n",
       "  </thead>\n",
       "  <tbody>\n",
       "    <tr>\n",
       "      <th>425</th>\n",
       "      <td>590470918</td>\n",
       "      <td>1920142716</td>\n",
       "      <td>2019-08-19</td>\n",
       "      <td>19920.40</td>\n",
       "      <td>B</td>\n",
       "    </tr>\n",
       "  </tbody>\n",
       "</table>\n",
       "</div>"
      ],
      "text/plain": [
       "     transactionId   visitorId       date  revenue group\n",
       "425      590470918  1920142716 2019-08-19 19920.40     B"
      ]
     },
     "execution_count": 32,
     "metadata": {},
     "output_type": "execute_result"
    }
   ],
   "source": [
    "orders_clean.query('revenue > 19000')"
   ]
  },
  {
   "cell_type": "code",
   "execution_count": 33,
   "metadata": {},
   "outputs": [
    {
     "data": {
      "image/png": "[encoded data removed]",
      "text/plain": [
       "<Figure size 432x288 with 1 Axes>"
      ]
     },
     "metadata": {
      "needs_background": "light"
     },
     "output_type": "display_data"
    }
   ],
   "source": [
    "x_values = pd.Series(range(0,len(orders['revenue'])))\n",
    "plt.scatter(x_values, orders_clean['revenue'])\n",
    "(plot_ax('Dispersão do Valor do Pedido','Usuário','Volume do Pedido',\n",
    "         relative= False, legend = False, axis =False))\n"
   ]
  },
  {
   "cell_type": "code",
   "execution_count": 34,
   "metadata": {},
   "outputs": [
    {
     "data": {
      "image/png": "[encoded data removed]",
      "text/plain": [
       "<Figure size 432x288 with 1 Axes>"
      ]
     },
     "metadata": {
      "needs_background": "light"
     },
     "output_type": "display_data"
    }
   ],
   "source": [
    "x_values = pd.Series(range(0,len(orders['revenue'])))\n",
    "plt.scatter(x_values, orders_clean['revenue'])\n",
    "plt.ylim(0, 1500)\n",
    "(plot_ax('Dispersão do Valor do Pedido','Usuário','Valor do Pedido',\n",
    "         relative= True, legend = False, axis =False))\n"
   ]
  },
  {
   "cell_type": "markdown",
   "metadata": {},
   "source": [
    "Em relação ao valor do pedido, menos de 5% dos pedidos teve um valor maior que 435. Com um único pedido no valor de 20.000 no grupo B, o que é a causa dos picos em receita e volume médio, distorcendo esse grupo. Sendo assim, irei considerar apenas valores abaixo. de 435."
   ]
  },
  {
   "cell_type": "markdown",
   "metadata": {},
   "source": [
    "### Encontrando a significância estatística da diferença na conversão entre os grupos usando os dados brutos. "
   ]
  },
  {
   "cell_type": "markdown",
   "metadata": {},
   "source": [
    "Agora identificarei se a diferença entre as conversões A e B são estatísticamente significativas."
   ]
  },
  {
   "cell_type": "markdown",
   "metadata": {},
   "source": [
    "Separando os grupos e preparando o teste estatístico:"
   ]
  },
  {
   "cell_type": "code",
   "execution_count": 35,
   "metadata": {},
   "outputs": [],
   "source": [
    "ordersByUsersA = orders_clean.query('group == \"A\"').groupby('visitorId', as_index=False)\\\n",
    "                .agg({'transactionId' : pd.Series.nunique})\n",
    "\n",
    "\n",
    "ordersByUsersB = orders_clean.query('group == \"B\"').groupby('visitorId', as_index=False)\\\n",
    "                .agg({'transactionId' : pd.Series.nunique})\n",
    "\n",
    "ordersByUsersB.columns = ['visitorId', 'transactionId']\n",
    "\n",
    "sampleA =(pd.concat([ordersByUsersA['transactionId'],\n",
    "                     pd.Series(0, index=np.arange(visits.query('group == \"A\"')['visits'].sum() - \n",
    "                                                  len(ordersByUsersA['transactionId'])), name='transactionId')],axis=0))\n",
    "\n",
    "sampleB = (pd.concat([ordersByUsersB['transactionId'],\n",
    "                      pd.Series(0, index=np.arange(visits.query('group == \"B\"')['visits'].sum() - \n",
    "                                  len(ordersByUsersB['transactionId'])), name='transactionId')],axis=0))"
   ]
  },
  {
   "cell_type": "markdown",
   "metadata": {},
   "source": [
    "Teste de Shapiro-Will para identificar se os dados se distribuem de forma normal:"
   ]
  },
  {
   "cell_type": "code",
   "execution_count": 36,
   "metadata": {},
   "outputs": [
    {
     "name": "stdout",
     "output_type": "stream",
     "text": [
      "p-value:  2.311063466318418e-40\n",
      "A - Hipótese nula rejeitada: a distribuição não é normal\n",
      "p-value:  1.2401491409274631e-42\n",
      "B - Hipótese nula rejeitada: a distribuição não é normal\n"
     ]
    }
   ],
   "source": [
    "alpha = .05 # nível de significância\n",
    "\n",
    "\n",
    "results = st.shapiro(ordersByUsersA['transactionId'])\n",
    "p_value = results[1] # o segundo valor no vetor de resultados (com índice 1) - o valor-p\n",
    "\n",
    "print('p-value: ', p_value)\n",
    "\n",
    "if (p_value < alpha):\n",
    "    print(\"A - Hipótese nula rejeitada: a distribuição não é normal\")\n",
    "else:\n",
    "    print(\"A - Falha ao rejeitar a hipótese nula: a distribuição parece ser normal\")\n",
    "    \n",
    "results = st.shapiro(ordersByUsersB['transactionId'])\n",
    "p_value = results[1] # o segundo valor no vetor de resultados (com índice 1) - o valor-p\n",
    "\n",
    "print('p-value: ', p_value)\n",
    "\n",
    "if (p_value < alpha):\n",
    "    print(\"B - Hipótese nula rejeitada: a distribuição não é normal\")\n",
    "else:\n",
    "    print(\"B - Falha ao rejeitar a hipótese nula: a distribuição parece ser normal\") "
   ]
  },
  {
   "cell_type": "markdown",
   "metadata": {},
   "source": [
    "As conversões dos grupos A e B **não** estão distribuidos normalmente. \n",
    "\n",
    "Será utilizado o teste Não-Paramétrico Wilcoxon-Mann-Whitney, para distribuições não normais:"
   ]
  },
  {
   "cell_type": "code",
   "execution_count": 37,
   "metadata": {
    "scrolled": true
   },
   "outputs": [
    {
     "name": "stdout",
     "output_type": "stream",
     "text": [
      "valor-p:\n",
      "0.01665\n",
      "\n",
      "Diferença relativa de B sobre A:\n",
      "0.134\n"
     ]
    }
   ],
   "source": [
    "print('valor-p:')\n",
    "print(\"{0:.5f}\".format(st.mannwhitneyu(sampleA, sampleB)[1]))\n",
    "print('')\n",
    "\n",
    "print('Diferença relativa de B sobre A:')\n",
    "print(\"{0:.3f}\".format(sampleB.mean()/sampleA.mean()-1)) "
   ]
  },
  {
   "cell_type": "markdown",
   "metadata": {},
   "source": [
    "A diferença entre as conversões é estatísticamente significativa para os dados brutos. Com as conversões do grupo B sendo 13% maiores."
   ]
  },
  {
   "cell_type": "markdown",
   "metadata": {},
   "source": [
    "### Encontrando a significância estatística da diferença no tamanho médio do pedido entre os grupos usando os dados brutos. "
   ]
  },
  {
   "cell_type": "markdown",
   "metadata": {},
   "source": [
    "Identificarei se a diferença no tamanho médio do pedido entre os grupos A e B é estatísticamente significativa."
   ]
  },
  {
   "cell_type": "markdown",
   "metadata": {},
   "source": [
    "Teste de Shapiro-Will para identificar se os dados se distribuem de forma normal:"
   ]
  },
  {
   "cell_type": "code",
   "execution_count": 38,
   "metadata": {},
   "outputs": [
    {
     "name": "stdout",
     "output_type": "stream",
     "text": [
      "p-value:  2.0748701295887084e-34\n",
      "A - Hipótese nula rejeitada: a distribuição não é normal\n",
      "p-value:  0.0\n",
      "B - Hipótese nula rejeitada: a distribuição não é normal\n"
     ]
    }
   ],
   "source": [
    "alpha = .05 # nível de significância\n",
    "\n",
    "\n",
    "results = st.shapiro(orders_clean.query('group == \"A\"')['revenue'])\n",
    "p_value = results[1] # o segundo valor no vetor de resultados (com índice 1) - o valor-p\n",
    "\n",
    "print('p-value: ', p_value)\n",
    "\n",
    "if (p_value < alpha):\n",
    "    print(\"A - Hipótese nula rejeitada: a distribuição não é normal\")\n",
    "else:\n",
    "    print(\"A - Falha ao rejeitar a hipótese nula: a distribuição parece ser normal\")\n",
    "    \n",
    "results = st.shapiro(orders_clean.query('group == \"B\"')['revenue'])\n",
    "p_value = results[1] # o segundo valor no vetor de resultados (com índice 1) - o valor-p\n",
    "\n",
    "print('p-value: ', p_value)\n",
    "\n",
    "if (p_value < alpha):\n",
    "    print(\"B - Hipótese nula rejeitada: a distribuição não é normal\")\n",
    "else:\n",
    "    print(\"B - Falha ao rejeitar a hipótese nula: a distribuição parece ser normal\") "
   ]
  },
  {
   "cell_type": "markdown",
   "metadata": {},
   "source": [
    "Os dados da diferença no tamanho médio do pedido dos grupos A e B **não** estão distribuidos normalmente. \n",
    "\n",
    "Será utilizado o teste Não-Paramétrico Wilcoxon-Mann-Whitney, para distribuições não normais:"
   ]
  },
  {
   "cell_type": "code",
   "execution_count": 39,
   "metadata": {},
   "outputs": [
    {
     "name": "stdout",
     "output_type": "stream",
     "text": [
      "valor-p:\n",
      "0.409\n",
      "\n",
      "Diferença relativa de B sobre A:\n",
      "0.144\n"
     ]
    }
   ],
   "source": [
    "print('valor-p:')\n",
    "(print('{0:.3f}'\n",
    "       .format(st.mannwhitneyu(orders_clean.query('group == \"A\"')['revenue'], \n",
    "                    orders_clean.query('group == \"B\"')['revenue'])[1])))\n",
    "\n",
    "print('')\n",
    "\n",
    "print('Diferença relativa de B sobre A:')\n",
    "(print('{0:.3f}'\n",
    "       .format(orders_clean.query('group == \"B\"')['revenue'].mean()/\n",
    "               orders_clean.query('group == \"A\"')['revenue'].mean()-1)))\n"
   ]
  },
  {
   "cell_type": "markdown",
   "metadata": {},
   "source": [
    "A diferença entre  os tamanhos médios dos pedidos **não** é estatísticamente significativa para os dados brutos. Não é possível dizer que são diferentes.\n",
    "Com as conversões do grupo B sendo 14% maiores."
   ]
  },
  {
   "cell_type": "markdown",
   "metadata": {},
   "source": [
    "### Encontrando a significância estatística da diferença na conversão entre os grupos usando os dados filtrados."
   ]
  },
  {
   "cell_type": "markdown",
   "metadata": {},
   "source": [
    "agora irei filtrar os dados para a retirada de valores extremos, com mais que dois pedidos ou pedidos acima do valor de 435.54 sendo considerados anomalias e retirados da amostra. Os testes estatísticos serão refeitos com os dados filtrados."
   ]
  },
  {
   "cell_type": "markdown",
   "metadata": {},
   "source": [
    "Lista dos dados anômalos:"
   ]
  },
  {
   "cell_type": "code",
   "execution_count": 40,
   "metadata": {
    "scrolled": true
   },
   "outputs": [
    {
     "name": "stdout",
     "output_type": "stream",
     "text": [
      "1099    148427295\n",
      "27      199603092\n",
      "928     204675465\n",
      "20      237748145\n",
      "36      249864742\n",
      "Name: visitorId, dtype: int64\n",
      "(83,)\n"
     ]
    }
   ],
   "source": [
    "usersWithManyOrders = (pd.concat([ordersByUsersA[ordersByUsersA['transactionId'] > 2]['visitorId'], \n",
    "                                  ordersByUsersB[ordersByUsersB['transactionId'] > 2]['visitorId']], axis = 0))\n",
    "\n",
    "usersWithExpensiveOrders = orders_clean[orders_clean['revenue'] > 435.54]['visitorId']\n",
    "\n",
    "abnormalUsers = pd.concat([usersWithManyOrders, usersWithExpensiveOrders], axis = 0).drop_duplicates().sort_values()\n",
    "\n",
    "print(abnormalUsers.head(5))\n",
    "print(abnormalUsers.shape) "
   ]
  },
  {
   "cell_type": "markdown",
   "metadata": {},
   "source": [
    "Filtagem da amostra:"
   ]
  },
  {
   "cell_type": "code",
   "execution_count": 41,
   "metadata": {},
   "outputs": [],
   "source": [
    "sampleAFiltered = (pd.concat([ordersByUsersA[np.logical_not(ordersByUsersA['visitorId'].isin(abnormalUsers))]['transactionId'],\n",
    "                              pd.Series(0, index=np.arange(visits.query('group == \"A\"')['visits'].sum() - \n",
    "                                                           len(ordersByUsersA['transactionId'])),name='transactionId')],axis=0))\n",
    "\n",
    "\n",
    "\n",
    "sampleBFiltered = (pd.concat([ordersByUsersB[np.logical_not(ordersByUsersB['visitorId'].isin(abnormalUsers))]['transactionId'],\n",
    "                              pd.Series(0, index=np.arange(visits.query('group == \"B\"')['visits'].sum() - \n",
    "                                                           len(ordersByUsersB['transactionId'])),name='transactionId')],axis=0))\n"
   ]
  },
  {
   "cell_type": "markdown",
   "metadata": {},
   "source": [
    "Teste Wilcoxon-Mann-Whitney, para a diferença entre as conversões:"
   ]
  },
  {
   "cell_type": "code",
   "execution_count": 42,
   "metadata": {},
   "outputs": [
    {
     "name": "stdout",
     "output_type": "stream",
     "text": [
      "valor-p:\n",
      "0.01574\n",
      "\n",
      "Diferença relativa de B sobre A:\n",
      "0.157\n"
     ]
    }
   ],
   "source": [
    "print('valor-p:')\n",
    "print(\"{0:.5f}\".format(st.mannwhitneyu(sampleAFiltered, sampleBFiltered)[1]))\n",
    "print('')\n",
    "\n",
    "print('Diferença relativa de B sobre A:')\n",
    "print(\"{0:.3f}\".format(sampleBFiltered.mean()/sampleAFiltered.mean()-1))"
   ]
  },
  {
   "cell_type": "markdown",
   "metadata": {},
   "source": [
    "Com os dados filtrados a diferença entre as conversões continua estatísticamente significativa. O valor-p diminuiu e a conversão do grupo B aumentou para 15% maior em relação ao grupo A.\n",
    "\n",
    "Sendo assim, temos provas estatísticas suficientes para dizer que os grupo B é melhor que o grupo A em conversões."
   ]
  },
  {
   "cell_type": "markdown",
   "metadata": {},
   "source": [
    "### Encontrando a significância estatística da diferença no tamanho médio do pedido entre os grupos usando os dados filtrados. "
   ]
  },
  {
   "cell_type": "markdown",
   "metadata": {},
   "source": [
    "Teste Wilcoxon-Mann-Whitney, para a diferença entre os tamanhos médios dos pedidos entre os grupos:"
   ]
  },
  {
   "cell_type": "code",
   "execution_count": 43,
   "metadata": {},
   "outputs": [
    {
     "name": "stdout",
     "output_type": "stream",
     "text": [
      "valor-p:\n",
      "0.447\n",
      "\n",
      "Diferença relativa de B sobre A:\n",
      "-0.055\n"
     ]
    }
   ],
   "source": [
    "print('valor-p:')\n",
    "print('{0:.3f}'.format(st.mannwhitneyu(\n",
    "    orders_clean[np.logical_and(\n",
    "        orders_clean['group']=='A',\n",
    "        np.logical_not(orders_clean['visitorId'].isin(abnormalUsers)))]['revenue'],\n",
    "    orders_clean[np.logical_and(\n",
    "        orders_clean['group']=='B',\n",
    "        np.logical_not(orders_clean['visitorId'].isin(abnormalUsers)))]['revenue'])[1]))\n",
    "\n",
    "print('')\n",
    "\n",
    "print('Diferença relativa de B sobre A:')\n",
    "print('{0:.3f}'.format(\n",
    "     orders_clean[np.logical_and(\n",
    "         orders_clean['group']=='B',\n",
    "         np.logical_not(orders_clean['visitorId'].isin(abnormalUsers)))]['revenue'].mean()\n",
    "    /orders_clean[np.logical_and(\n",
    "        orders_clean['group']=='A',\n",
    "        np.logical_not(orders_clean['visitorId'].isin(abnormalUsers)))]['revenue'].mean() - 1)) "
   ]
  },
  {
   "cell_type": "markdown",
   "metadata": {},
   "source": [
    "Com os dados filtrados a diferença entre os tamanhos médios dos pedidos continua **não** sendo estatísticamente significativa. Não é possível dizer que são diferentes.\n",
    "\n",
    "Sendo assim, não podemos é possivel identificar uma diferença entre os tamanhos médios dos pedidos."
   ]
  },
  {
   "cell_type": "markdown",
   "metadata": {},
   "source": [
    "## Conclusão"
   ]
  },
  {
   "cell_type": "markdown",
   "metadata": {},
   "source": [
    "### Hipósteses"
   ]
  },
  {
   "cell_type": "markdown",
   "metadata": {},
   "source": [
    "As hipóteses que devem ser testadas primeiro pelo framework RICE são:\n",
    "\n",
    "\n",
    "    Add a subscription form to all the main pages. This will help you compile a mailing list.\n",
    "    Add product recommendation blocks to the store's site. This will increase conversion and average purchase size.\n",
    "    Add two new channels for attracting traffic. This will bring 30% more users.\n"
   ]
  },
  {
   "cell_type": "markdown",
   "metadata": {},
   "source": [
    "### Teste A/B"
   ]
  },
  {
   "cell_type": "markdown",
   "metadata": {},
   "source": [
    "#### Conversão "
   ]
  },
  {
   "cell_type": "markdown",
   "metadata": {},
   "source": [
    "Em relação a conversão, podemos afirmar que o grupo B foi 15% melhor que o grupo A. Com a metríca já estabilizada, podemos afirmar que o grupo B foi estatisticamente melhor.  "
   ]
  },
  {
   "cell_type": "markdown",
   "metadata": {},
   "source": [
    "#### Receita"
   ]
  },
  {
   "cell_type": "markdown",
   "metadata": {},
   "source": [
    "Em relação a receita, não podemos afirmar que houve diferença entre os grupos. A metríca continua flutuando mas ela não indica que pode estabilizar-se, logo, podemos dizer que não houve diferença estatística na receita."
   ]
  },
  {
   "cell_type": "markdown",
   "metadata": {},
   "source": [
    "#### Resultado do teste"
   ]
  },
  {
   "cell_type": "markdown",
   "metadata": {},
   "source": [
    "A partir da análise, aconselho a parada do teste. O grupo B foi melhor em conversões, sendo o mais indicado para a escolha, não houve grupo melhor em relação a receita."
   ]
  }
 ],
 "metadata": {
  "kernelspec": {
   "display_name": "Python 3 (ipykernel)",
   "language": "python",
   "name": "python3"
  },
  "language_info": {
   "codemirror_mode": {
    "name": "ipython",
    "version": 3
   },
   "file_extension": ".py",
   "mimetype": "text/x-python",
   "name": "python",
   "nbconvert_exporter": "python",
   "pygments_lexer": "ipython3",
   "version": "3.9.13"
  },
  "toc": {
   "base_numbering": 1,
   "nav_menu": {},
   "number_sections": true,
   "sideBar": true,
   "skip_h1_title": true,
   "title_cell": "Table of Contents",
   "title_sidebar": "Contents",
   "toc_cell": false,
   "toc_position": {},
   "toc_section_display": true,
   "toc_window_display": false
  }
 },
 "nbformat": 4,
 "nbformat_minor": 4
}
